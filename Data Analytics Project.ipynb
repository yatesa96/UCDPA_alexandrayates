{
 "cells": [
  {
   "cell_type": "code",
   "execution_count": 624,
   "id": "2b32e3dc-c2be-40ae-ba0d-2e9e34156711",
   "metadata": {},
   "outputs": [],
   "source": [
    "#Importing Python packages\n",
    "\n",
    "import pandas as pd\n",
    "import numpy as np\n",
    "import seaborn as sns\n",
    "import matplotlib.pyplot as plt\n",
    "from datetime import datetime"
   ]
  },
  {
   "cell_type": "code",
   "execution_count": 625,
   "id": "12c70485-2123-484b-938d-0d15ad404dd6",
   "metadata": {},
   "outputs": [],
   "source": [
    "#Importing dataframes\n",
    "live_activations_csv = pd.read_csv(r'C:\\Users\\yatesa\\Documents\\Data Analytics Course\\Activations_2022.csv', parse_dates = ['account_open_date'], dayfirst=True, index_col='account')\n",
    "lapsed_vs_still_actives_csv = pd.read_csv(r'C:\\Users\\yatesa\\Documents\\Data Analytics Course\\lapsed_vs_still_actives_2022.csv', index_col='account')"
   ]
  },
  {
   "cell_type": "code",
   "execution_count": 626,
   "id": "86fc0093-661e-45bf-8318-e70b5bd5d42c",
   "metadata": {},
   "outputs": [
    {
     "data": {
      "text/plain": [
       "(531, 23)"
      ]
     },
     "execution_count": 626,
     "metadata": {},
     "output_type": "execute_result"
    }
   ],
   "source": [
    "#Assessing size of dataframe\n",
    "live_activations_csv.shape"
   ]
  },
  {
   "cell_type": "code",
   "execution_count": 627,
   "id": "f86b0552-5ed6-4f10-9257-c2b29e6262b7",
   "metadata": {},
   "outputs": [
    {
     "name": "stdout",
     "output_type": "stream",
     "text": [
      "<class 'pandas.core.frame.DataFrame'>\n",
      "Int64Index: 531 entries, 1 to 509\n",
      "Data columns (total 23 columns):\n",
      " #   Column                     Non-Null Count  Dtype         \n",
      "---  ------                     --------------  -----         \n",
      " 0   brand_nk                   531 non-null    object        \n",
      " 1   first_placed_date_ukt      531 non-null    object        \n",
      " 2   first_placed_hour_ukt      531 non-null    int64         \n",
      " 3   first_placed_datetime_ukt  531 non-null    object        \n",
      " 4   account_open_date          531 non-null    datetime64[ns]\n",
      " 5   region_category            531 non-null    object        \n",
      " 6   country_region             531 non-null    object        \n",
      " 7   country                    531 non-null    object        \n",
      " 8   first_placed_product       531 non-null    object        \n",
      " 9   marketing_channel          531 non-null    object        \n",
      " 10  marketing_subchannel       531 non-null    object        \n",
      " 11  partner_id                 531 non-null    object        \n",
      " 12  partner_name               531 non-null    object        \n",
      " 13  promo_code                 531 non-null    object        \n",
      " 14  promo_name                 531 non-null    object        \n",
      " 15  reg_device                 531 non-null    object        \n",
      " 16  first_event                531 non-null    object        \n",
      " 17  first_sport                531 non-null    object        \n",
      " 18  first_bet_selection_name   531 non-null    object        \n",
      " 19  avs_pass_fail              531 non-null    object        \n",
      " 20  timestamp_ukt              531 non-null    object        \n",
      " 21  max_settled_dt_tass_ukt    531 non-null    object        \n",
      " 22  max_placed_dt_sb_ukt       531 non-null    object        \n",
      "dtypes: datetime64[ns](1), int64(1), object(21)\n",
      "memory usage: 99.6+ KB\n"
     ]
    }
   ],
   "source": [
    "#Assessing data types\n",
    "live_activations_csv.info()"
   ]
  },
  {
   "cell_type": "code",
   "execution_count": 628,
   "id": "1476ca9d-2254-42ef-9cc2-bf0ce59b9d7b",
   "metadata": {},
   "outputs": [
    {
     "name": "stdout",
     "output_type": "stream",
     "text": [
      "        brand_nk first_placed_date_ukt  first_placed_hour_ukt  \\\n",
      "account                                                         \n",
      "1             BF            20/03/2023                      8   \n",
      "2             BF            20/03/2023                      8   \n",
      "5             BF            20/03/2023                     10   \n",
      "11            BF            20/03/2023                      1   \n",
      "12            BF            20/03/2023                      1   \n",
      "\n",
      "        first_placed_datetime_ukt account_open_date region_category  \\\n",
      "account                                                               \n",
      "1                20/03/2023 08:09        2022-12-03    UK & Ireland   \n",
      "2                20/03/2023 08:46        2022-12-03    UK & Ireland   \n",
      "5                20/03/2023 10:12        2022-12-06    UK & Ireland   \n",
      "11               20/03/2023 01:17        2022-12-18    UK & Ireland   \n",
      "12               20/03/2023 01:07        2022-12-09    UK & Ireland   \n",
      "\n",
      "        country_region         country first_placed_product marketing_channel  \\\n",
      "account                                                                         \n",
      "1         UK & Ireland  United Kingdom                  UGE               SEO   \n",
      "2         UK & Ireland  United Kingdom           Sportsbook            Direct   \n",
      "5         UK & Ireland  United Kingdom           Sportsbook            Direct   \n",
      "11        UK & Ireland  United Kingdom                  UGE        Affiliates   \n",
      "12        UK & Ireland  United Kingdom                Poker               SEO   \n",
      "\n",
      "         ... promo_code                      promo_name reg_device  \\\n",
      "account  ...                                                         \n",
      "1        ...     CASF51               CAS:50 Free Spins     Mobile   \n",
      "2        ...     ZBGC01                      SBK:B10G30     Mobile   \n",
      "5        ...     ZBGC01                      SBK:B10G30        Web   \n",
      "11       ...     CASF51               CAS:50 Free Spins     Mobile   \n",
      "12       ...     PKRREG  POK:default desktop promo code        Web   \n",
      "\n",
      "                                          first_event   first_sport  \\\n",
      "account                                                               \n",
      "1                                              (null)        (null)   \n",
      "2                           /Redcliffe (AUS) 20th Mar  Horse Racing   \n",
      "5        FC Bulleen Lions (W) v Boroondara Eagles (W)      Football   \n",
      "11                                             (null)        (null)   \n",
      "12                                             (null)        (null)   \n",
      "\n",
      "        first_bet_selection_name avs_pass_fail     timestamp_ukt  \\\n",
      "account                                                            \n",
      "1                         (null)          Pass  20/03/2023 11:24   \n",
      "2          3. Keayang Sponge Bob          Pass  20/03/2023 11:24   \n",
      "5                Under 2.5 Goals          Pass  20/03/2023 11:24   \n",
      "11                        (null)          Pass  20/03/2023 11:24   \n",
      "12                        (null)          Pass  20/03/2023 11:24   \n",
      "\n",
      "        max_settled_dt_tass_ukt max_placed_dt_sb_ukt  \n",
      "account                                               \n",
      "1              20/03/2023 10:46     20/03/2023 10:36  \n",
      "2              20/03/2023 10:46     20/03/2023 10:36  \n",
      "5              20/03/2023 10:46     20/03/2023 10:36  \n",
      "11             20/03/2023 10:46     20/03/2023 10:36  \n",
      "12             20/03/2023 10:46     20/03/2023 10:36  \n",
      "\n",
      "[5 rows x 23 columns]\n"
     ]
    }
   ],
   "source": [
    "#Creating a brand and location specific dataframe\n",
    "live_activations_bf_uk = live_activations_csv[(live_activations_csv[\"brand_nk\"] == \"BF\") & (live_activations_csv[\"country_region\"] == \"UK & Ireland\")]\n",
    "print(live_activations_bf_uk.head())"
   ]
  },
  {
   "cell_type": "code",
   "execution_count": 629,
   "id": "3ccf6b18-29e3-41a1-92ee-21f0dfead150",
   "metadata": {},
   "outputs": [
    {
     "name": "stdout",
     "output_type": "stream",
     "text": [
      "        brand_nk account_open_date country_region first_placed_product  \\\n",
      "account                                                                  \n",
      "1             BF        2022-12-03   UK & Ireland                  UGE   \n",
      "2             BF        2022-12-03   UK & Ireland           Sportsbook   \n",
      "5             BF        2022-12-06   UK & Ireland           Sportsbook   \n",
      "11            BF        2022-12-18   UK & Ireland                  UGE   \n",
      "12            BF        2022-12-09   UK & Ireland                Poker   \n",
      "\n",
      "        marketing_channel reg_device  \n",
      "account                               \n",
      "1                     SEO     Mobile  \n",
      "2                  Direct     Mobile  \n",
      "5                  Direct        Web  \n",
      "11             Affiliates     Mobile  \n",
      "12                    SEO        Web  \n"
     ]
    }
   ],
   "source": [
    "#Selecting relevant columns for dataframe\n",
    "live_activations_bf_uk_final = live_activations_bf_uk.loc[:, [\"brand_nk\", \"account_open_date\", \"country_region\", \"first_placed_product\", \"marketing_channel\", \"reg_device\"]]\n",
    "print(live_activations_bf_uk_final.head())"
   ]
  },
  {
   "cell_type": "code",
   "execution_count": 630,
   "id": "dda8576a-287e-45e4-b2d2-6dcf5c2c68bf",
   "metadata": {},
   "outputs": [
    {
     "name": "stdout",
     "output_type": "stream",
     "text": [
      "        brand_nk account_open_date country_region first_placed_product  \\\n",
      "account                                                                  \n",
      "1             BF        2022-12-03            UKI                  UGE   \n",
      "2             BF        2022-12-03            UKI           Sportsbook   \n",
      "5             BF        2022-12-06            UKI           Sportsbook   \n",
      "11            BF        2022-12-18            UKI                  UGE   \n",
      "12            BF        2022-12-09            UKI                Poker   \n",
      "\n",
      "        marketing_channel reg_device  \n",
      "account                               \n",
      "1                     SEO     Mobile  \n",
      "2                  Direct     Mobile  \n",
      "5                  Direct        Web  \n",
      "11             Affiliates     Mobile  \n",
      "12                    SEO        Web  \n"
     ]
    }
   ],
   "source": [
    "#Replacing values\n",
    "live_activations_bf_uk_final = live_activations_bf_uk_final.replace(\"UK & Ireland\", \"UKI\")\n",
    "print(live_activations_bf_uk_final.head())"
   ]
  },
  {
   "cell_type": "code",
   "execution_count": 631,
   "id": "cd34a29d-b7a8-4912-a658-81bd8fb239f4",
   "metadata": {},
   "outputs": [
    {
     "name": "stdout",
     "output_type": "stream",
     "text": [
      "        brand account open date country first product played     channel  \\\n",
      "account                                                                    \n",
      "1          BF        2022-12-03     UKI                  UGE         SEO   \n",
      "2          BF        2022-12-03     UKI           Sportsbook      Direct   \n",
      "5          BF        2022-12-06     UKI           Sportsbook      Direct   \n",
      "11         BF        2022-12-18     UKI                  UGE  Affiliates   \n",
      "12         BF        2022-12-09     UKI                Poker         SEO   \n",
      "\n",
      "         device  \n",
      "account          \n",
      "1        Mobile  \n",
      "2        Mobile  \n",
      "5           Web  \n",
      "11       Mobile  \n",
      "12          Web  \n"
     ]
    }
   ],
   "source": [
    "#Renaming columns\n",
    "live_activations_bf_uk_final.rename(columns = {\"brand_nk\" : \"brand\", \"account_open_date\" : \"account open date\", \"country_region\" : \"country\", \"first_placed_product\" : \"first product played\", \"marketing_channel\" : \"channel\", \"reg_device\" : \"device\"}, inplace = True)\n",
    "print(live_activations_bf_uk_final.head())"
   ]
  },
  {
   "cell_type": "code",
   "execution_count": 632,
   "id": "90cf9fb7-ffc6-4fb0-96ec-924a7619a0bc",
   "metadata": {},
   "outputs": [
    {
     "name": "stdout",
     "output_type": "stream",
     "text": [
      "        brand account open date country first product played     channel  \\\n",
      "account                                                                    \n",
      "1          BF        2022-12-03     UKI                  UGE         SEO   \n",
      "2          BF        2022-12-03     UKI           Sportsbook      Direct   \n",
      "2          BF        2022-12-03     UKI           Sportsbook      Direct   \n",
      "5          BF        2022-12-06     UKI           Sportsbook      Direct   \n",
      "11         BF        2022-12-18     UKI                  UGE  Affiliates   \n",
      "...       ...               ...     ...                  ...         ...   \n",
      "289        BF        2022-12-18     UKI           Sportsbook      Direct   \n",
      "292        BF        2022-12-11     UKI                  UGE         SEO   \n",
      "294        BF        2022-12-16     UKI           Sportsbook      Direct   \n",
      "296        BF        2022-12-09     UKI                  UGE      Direct   \n",
      "300        BF        2022-12-01     UKI                  UGE      Direct   \n",
      "\n",
      "         device lifestage theoretical_net_revenue  \n",
      "account                                            \n",
      "1        Mobile    active                  £2,750  \n",
      "2        Mobile    active                  £2,750  \n",
      "2        Mobile    active                    £800  \n",
      "5           Web    lapsed                  £2,750  \n",
      "11       Mobile    active                    £300  \n",
      "...         ...       ...                     ...  \n",
      "289      Mobile    active                    £800  \n",
      "292      Mobile    lapsed                     NaN  \n",
      "294         Web    active                  £8,500  \n",
      "296         Web    active                  £1,500  \n",
      "300         Web    active                  £1,500  \n",
      "\n",
      "[139 rows x 8 columns]\n"
     ]
    }
   ],
   "source": [
    "#Merging datasets on account column\n",
    "live_activations_vs_still_actives = live_activations_bf_uk_final.merge(lapsed_vs_still_actives_csv, on='account', how='left')\n",
    "print(live_activations_vs_still_actives)"
   ]
  },
  {
   "cell_type": "code",
   "execution_count": 633,
   "id": "fa9ecc82-b46f-4092-966b-436c16ac8459",
   "metadata": {},
   "outputs": [
    {
     "name": "stdout",
     "output_type": "stream",
     "text": [
      "        brand account open date country first product played     channel  \\\n",
      "account                                                                    \n",
      "1          BF        2022-12-03     UKI                  UGE         SEO   \n",
      "2          BF        2022-12-03     UKI           Sportsbook      Direct   \n",
      "2          BF        2022-12-03     UKI           Sportsbook      Direct   \n",
      "5          BF        2022-12-06     UKI           Sportsbook      Direct   \n",
      "11         BF        2022-12-18     UKI                  UGE  Affiliates   \n",
      "\n",
      "         device lifestage theo net rev  \n",
      "account                                 \n",
      "1        Mobile    active       £2,750  \n",
      "2        Mobile    active       £2,750  \n",
      "2        Mobile    active         £800  \n",
      "5           Web    lapsed       £2,750  \n",
      "11       Mobile    active         £300  \n"
     ]
    }
   ],
   "source": [
    "#Changing column name\n",
    "live_activations_vs_still_actives.rename(columns = {\"theoretical_net_revenue\" : \"theo net rev\"}, inplace = True)\n",
    "print(live_activations_vs_still_actives.head())"
   ]
  },
  {
   "cell_type": "code",
   "execution_count": 634,
   "id": "763f5caa-d732-4e2a-bdbc-a00cb9951560",
   "metadata": {},
   "outputs": [
    {
     "name": "stdout",
     "output_type": "stream",
     "text": [
      "        brand account open date country first product played     channel  \\\n",
      "account                                                                    \n",
      "1          BF        2022-12-03     UKI                  UGE         SEO   \n",
      "2          BF        2022-12-03     UKI           Sportsbook      Direct   \n",
      "2          BF        2022-12-03     UKI           Sportsbook      Direct   \n",
      "5          BF        2022-12-06     UKI           Sportsbook      Direct   \n",
      "11         BF        2022-12-18     UKI                  UGE  Affiliates   \n",
      "\n",
      "         device lifestage theo net rev     cost  \n",
      "account                                          \n",
      "1        Mobile    active       £2,750  organic  \n",
      "2        Mobile    active       £2,750  organic  \n",
      "2        Mobile    active         £800  organic  \n",
      "5           Web    lapsed       £2,750  organic  \n",
      "11       Mobile    active         £300     paid  \n"
     ]
    }
   ],
   "source": [
    "#Adding column to specify paid / unpaid activity\n",
    "live_activations_vs_still_actives[\"cost\"] = live_activations_vs_still_actives.apply(lambda x: \"organic\" if (x[\"channel\"]==\"SEO\" or x[\"channel\"]==\"Direct\") else \"paid\", axis=1)\n",
    "print(live_activations_vs_still_actives.head())"
   ]
  },
  {
   "cell_type": "code",
   "execution_count": 635,
   "id": "87cbcf48-3592-408c-b4f2-766364a4e9f0",
   "metadata": {},
   "outputs": [
    {
     "name": "stdout",
     "output_type": "stream",
     "text": [
      "<class 'pandas.core.frame.DataFrame'>\n",
      "Int64Index: 139 entries, 1 to 300\n",
      "Data columns (total 9 columns):\n",
      " #   Column                Non-Null Count  Dtype         \n",
      "---  ------                --------------  -----         \n",
      " 0   brand                 139 non-null    object        \n",
      " 1   account open date     139 non-null    datetime64[ns]\n",
      " 2   country               139 non-null    object        \n",
      " 3   first product played  139 non-null    object        \n",
      " 4   channel               139 non-null    object        \n",
      " 5   device                139 non-null    object        \n",
      " 6   lifestage             139 non-null    object        \n",
      " 7   theo net rev          139 non-null    object        \n",
      " 8   cost                  139 non-null    object        \n",
      "dtypes: datetime64[ns](1), object(8)\n",
      "memory usage: 10.9+ KB\n"
     ]
    }
   ],
   "source": [
    "#Filling in blanks on the theo net rev column as less than £0\n",
    "live_activations_vs_still_actives.fillna(\"negative\", inplace=True)\n",
    "live_activations_vs_still_actives.info()"
   ]
  },
  {
   "cell_type": "code",
   "execution_count": 636,
   "id": "8c63a679-0064-48bb-9222-b161d405cb60",
   "metadata": {},
   "outputs": [
    {
     "name": "stdout",
     "output_type": "stream",
     "text": [
      "        brand account open date country first product played     channel  \\\n",
      "account                                                                    \n",
      "1          BF        2022-12-03     UKI                  UGE         SEO   \n",
      "2          BF        2022-12-03     UKI           Sportsbook      Direct   \n",
      "2          BF        2022-12-03     UKI           Sportsbook      Direct   \n",
      "5          BF        2022-12-06     UKI           Sportsbook      Direct   \n",
      "11         BF        2022-12-18     UKI                  UGE  Affiliates   \n",
      "\n",
      "         device lifestage theo net rev     cost value tier  \n",
      "account                                                     \n",
      "1        Mobile    active       £2,750  organic   priority  \n",
      "2        Mobile    active       £2,750  organic   priority  \n",
      "2        Mobile    active         £800  organic  mid value  \n",
      "5           Web    lapsed       £2,750  organic   priority  \n",
      "11       Mobile    active         £300     paid  mid value  \n"
     ]
    }
   ],
   "source": [
    "#Adding column to determine value tier\n",
    "def condition(x):\n",
    "    if x==\"£8,500\" or x==\"£2,750\":\n",
    "        return \"priority\"\n",
    "    elif x==\"£1,500\" or x==\"£800\" or x==\"£300\" or x==\"£100\":\n",
    "        return \"mid value\"\n",
    "    else:\n",
    "        return 'low value'\n",
    "    \n",
    "live_activations_vs_still_actives[\"value tier\"] = live_activations_vs_still_actives[\"theo net rev\"].apply(condition)\n",
    "print(live_activations_vs_still_actives.head())"
   ]
  },
  {
   "cell_type": "code",
   "execution_count": 637,
   "id": "ad0e47ef-d4cb-4a46-bd9d-2083d6a14bd4",
   "metadata": {},
   "outputs": [
    {
     "name": "stdout",
     "output_type": "stream",
     "text": [
      "value tier  channel             \n",
      "low value   Affiliates               5\n",
      "            Direct                   3\n",
      "            PPC (inc Competitor)     1\n",
      "            PPC Brand                2\n",
      "            RAE                      2\n",
      "            SEO                      7\n",
      "mid value   Affiliates              15\n",
      "            Direct                  31\n",
      "            PPC (inc Competitor)     2\n",
      "            PPC Brand                1\n",
      "            RAE                      3\n",
      "            SEO                     10\n",
      "priority    Affiliates               1\n",
      "            Direct                  46\n",
      "            PPC Brand                1\n",
      "            PPC UAC                  1\n",
      "            SEO                      8\n",
      "Name: lifestage, dtype: int64\n"
     ]
    }
   ],
   "source": [
    "#Grouping the data to visualise for analysis on channel vs value tier and saving as a separate DF\n",
    "channel_vs_vt = live_activations_vs_still_actives.groupby(['value tier', 'channel']) ['lifestage'].count()\n",
    "print(channel_vs_vt)"
   ]
  },
  {
   "cell_type": "code",
   "execution_count": 638,
   "id": "44c868b0-6505-4258-9071-af758a198449",
   "metadata": {},
   "outputs": [
    {
     "name": "stdout",
     "output_type": "stream",
     "text": [
      "lifestage  channel             \n",
      "active     Affiliates              12\n",
      "           Direct                  51\n",
      "           PPC (inc Competitor)     1\n",
      "           PPC Brand                2\n",
      "           PPC UAC                  1\n",
      "           RAE                      3\n",
      "           SEO                     13\n",
      "lapsed     Affiliates               9\n",
      "           Direct                  29\n",
      "           PPC (inc Competitor)     2\n",
      "           PPC Brand                2\n",
      "           RAE                      2\n",
      "           SEO                     12\n",
      "Name: value tier, dtype: int64\n"
     ]
    }
   ],
   "source": [
    "#Grouping the data to visualise for analysis on lapsed vs channel and saving as a separate DF\n",
    "lapsed_vs_channel = live_activations_vs_still_actives.groupby(['lifestage', 'channel']) ['value tier'].count()\n",
    "print(lapsed_vs_channel)"
   ]
  },
  {
   "cell_type": "code",
   "execution_count": 639,
   "id": "64595325-07f9-4314-b56f-884a14a3f764",
   "metadata": {},
   "outputs": [
    {
     "data": {
      "text/plain": [
       "<AxesSubplot:title={'center':'Active vs Lapsed'}, ylabel='lifestage'>"
      ]
     },
     "execution_count": 639,
     "metadata": {},
     "output_type": "execute_result"
    },
    {
     "data": {
      "image/png": "[encoded data removed]",
      "text/plain": [
       "<Figure size 640x480 with 1 Axes>"
      ]
     },
     "metadata": {},
     "output_type": "display_data"
    }
   ],
   "source": [
    "#Pie chart to visualise overall channel split\n",
    "active_vs_lapsed = live_activations_vs_still_actives.groupby(['lifestage']) ['lifestage'].count()\n",
    "active_vs_lapsed.plot(kind='pie', autopct='%1.0f%%', title='Active vs Lapsed')"
   ]
  },
  {
   "cell_type": "code",
   "execution_count": 645,
   "id": "965820d3-2857-44b5-804c-520fdcaf0fb8",
   "metadata": {},
   "outputs": [
    {
     "data": {
      "text/plain": [
       "[Text(0.5, 1.0, 'Lifestage vs Channel')]"
      ]
     },
     "execution_count": 645,
     "metadata": {},
     "output_type": "execute_result"
    },
    {
     "data": {
      "image/png": "[encoded data removed]",
      "text/plain": [
       "<Figure size 640x480 with 1 Axes>"
      ]
     },
     "metadata": {},
     "output_type": "display_data"
    }
   ],
   "source": [
    "#Creating second chart to include channel aquisition\n",
    "sns.countplot(data=live_activations_vs_still_actives, x='lifestage', hue='channel').set(title='Lifestage vs Channel')"
   ]
  },
  {
   "cell_type": "code",
   "execution_count": null,
   "id": "72a22448-2227-4c88-9bc8-8357db7fda28",
   "metadata": {},
   "outputs": [],
   "source": [
    "#Creating third chart to review value tiers\n",
    "sns.countplot(data=live_activations_vs_still_actives, x='value tier', hue='channel').set(title='Value Tier vs Channel')"
   ]
  },
  {
   "cell_type": "code",
   "execution_count": 642,
   "id": "6ca8b0e8-7703-416a-979c-7cc439beb140",
   "metadata": {},
   "outputs": [
    {
     "data": {
      "text/plain": [
       "<AxesSubplot:title={'center':'Channel Overview'}, ylabel='channel'>"
      ]
     },
     "execution_count": 642,
     "metadata": {},
     "output_type": "execute_result"
    },
    {
     "data": {
      "image/png": "[encoded data removed]",
      "text/plain": [
       "<Figure size 640x480 with 1 Axes>"
      ]
     },
     "metadata": {},
     "output_type": "display_data"
    }
   ],
   "source": [
    "#Pie chart to visualise overall channel split\n",
    "channel_counts = live_activations_vs_still_actives.groupby(['channel']) ['channel'].count()\n",
    "channel_counts.plot(kind='pie', autopct='%1.0f%%', title='Channel Overview')"
   ]
  },
  {
   "cell_type": "code",
   "execution_count": 643,
   "id": "8d08ba1e-60d7-4971-91a2-2261f6bcb70b",
   "metadata": {},
   "outputs": [
    {
     "name": "stdout",
     "output_type": "stream",
     "text": [
      "cost          139\n",
      "value tier    139\n",
      "dtype: int64\n"
     ]
    }
   ],
   "source": [
    "#Creating a chart to understand paid and non paid activity vs value tiers\n",
    "cost_vs_vt = live_activations_vs_still_actives[['cost', 'value tier']].count()\n",
    "print(cost_vs_vt)"
   ]
  },
  {
   "cell_type": "code",
   "execution_count": 656,
   "id": "6d4578a5-7202-495f-bea1-890e43ca2847",
   "metadata": {},
   "outputs": [
    {
     "data": {
      "text/plain": [
       "<AxesSubplot:title={'center':'Lapsed vs Priority'}, xlabel='channel'>"
      ]
     },
     "execution_count": 656,
     "metadata": {},
     "output_type": "execute_result"
    },
    {
     "data": {
      "image/png": "[encoded data removed]",
      "text/plain": [
       "<Figure size 640x480 with 1 Axes>"
      ]
     },
     "metadata": {},
     "output_type": "display_data"
    }
   ],
   "source": [
    "#Creating a dataframe and visual chart so identify lapsed high priority customers vs channel aquisition\n",
    "lapsed_vs_priority = lapsed_vs_priority = live_activations_vs_still_actives[(live_activations_vs_still_actives[\"lifestage\"] == \"lapsed\") & (live_activations_vs_still_actives[\"value tier\"] == \"priority\")]\n",
    "lapsed_vs_priority_count = lapsed_vs_priority.groupby(['channel']) ['value tier'].count()\n",
    "lapsed_vs_priority_count.plot(kind='bar', title='Lapsed vs Priority', xlabel='channel')"
   ]
  },
  {
   "cell_type": "code",
   "execution_count": null,
   "id": "45756fba-0052-498b-8bf2-eac45173e1e9",
   "metadata": {},
   "outputs": [],
   "source": []
  }
 ],
 "metadata": {
  "kernelspec": {
   "display_name": "Python 3 (ipykernel)",
   "language": "python",
   "name": "python3"
  },
  "language_info": {
   "codemirror_mode": {
    "name": "ipython",
    "version": 3
   },
   "file_extension": ".py",
   "mimetype": "text/x-python",
   "name": "python",
   "nbconvert_exporter": "python",
   "pygments_lexer": "ipython3",
   "version": "3.9.13"
  }
 },
 "nbformat": 4,
 "nbformat_minor": 5
}
